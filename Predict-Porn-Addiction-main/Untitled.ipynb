{
 "cells": [
  {
   "cell_type": "code",
   "execution_count": 1,
   "id": "3b1f04d3",
   "metadata": {
    "scrolled": true
   },
   "outputs": [
    {
     "data": {
      "text/html": [
       "<div>\n",
       "<style scoped>\n",
       "    .dataframe tbody tr th:only-of-type {\n",
       "        vertical-align: middle;\n",
       "    }\n",
       "\n",
       "    .dataframe tbody tr th {\n",
       "        vertical-align: top;\n",
       "    }\n",
       "\n",
       "    .dataframe thead th {\n",
       "        text-align: right;\n",
       "    }\n",
       "</style>\n",
       "<table border=\"1\" class=\"dataframe\">\n",
       "  <thead>\n",
       "    <tr style=\"text-align: right;\">\n",
       "      <th></th>\n",
       "      <th>Class</th>\n",
       "      <th>excessive</th>\n",
       "      <th>quit-unsuccessful</th>\n",
       "      <th>loss-focus</th>\n",
       "      <th>reduction</th>\n",
       "      <th>engaging-risky</th>\n",
       "      <th>guilt-shame</th>\n",
       "      <th>cycles</th>\n",
       "      <th>health-issue</th>\n",
       "      <th>demanding</th>\n",
       "      <th>lost-attraction</th>\n",
       "      <th>physical-pain</th>\n",
       "      <th>feeling-distracted</th>\n",
       "      <th>a-u-issue-r</th>\n",
       "      <th>cope-feelings</th>\n",
       "      <th>sex-life-less-satisfying</th>\n",
       "      <th>lost-interest</th>\n",
       "      <th>obsessive-thoughts</th>\n",
       "      <th>Feeling-withdrawal</th>\n",
       "    </tr>\n",
       "  </thead>\n",
       "  <tbody>\n",
       "    <tr>\n",
       "      <th>0</th>\n",
       "      <td>addicted</td>\n",
       "      <td>1</td>\n",
       "      <td>1</td>\n",
       "      <td>1</td>\n",
       "      <td>0</td>\n",
       "      <td>0</td>\n",
       "      <td>1</td>\n",
       "      <td>1</td>\n",
       "      <td>0</td>\n",
       "      <td>1</td>\n",
       "      <td>0</td>\n",
       "      <td>0</td>\n",
       "      <td>1</td>\n",
       "      <td>0</td>\n",
       "      <td>0</td>\n",
       "      <td>0</td>\n",
       "      <td>1</td>\n",
       "      <td>1</td>\n",
       "      <td>1</td>\n",
       "    </tr>\n",
       "    <tr>\n",
       "      <th>1</th>\n",
       "      <td>not-addicted</td>\n",
       "      <td>0</td>\n",
       "      <td>0</td>\n",
       "      <td>0</td>\n",
       "      <td>0</td>\n",
       "      <td>0</td>\n",
       "      <td>0</td>\n",
       "      <td>0</td>\n",
       "      <td>0</td>\n",
       "      <td>0</td>\n",
       "      <td>0</td>\n",
       "      <td>0</td>\n",
       "      <td>0</td>\n",
       "      <td>0</td>\n",
       "      <td>0</td>\n",
       "      <td>0</td>\n",
       "      <td>0</td>\n",
       "      <td>0</td>\n",
       "      <td>0</td>\n",
       "    </tr>\n",
       "    <tr>\n",
       "      <th>2</th>\n",
       "      <td>not-addicted</td>\n",
       "      <td>0</td>\n",
       "      <td>0</td>\n",
       "      <td>0</td>\n",
       "      <td>0</td>\n",
       "      <td>0</td>\n",
       "      <td>0</td>\n",
       "      <td>0</td>\n",
       "      <td>1</td>\n",
       "      <td>0</td>\n",
       "      <td>0</td>\n",
       "      <td>0</td>\n",
       "      <td>1</td>\n",
       "      <td>0</td>\n",
       "      <td>0</td>\n",
       "      <td>0</td>\n",
       "      <td>0</td>\n",
       "      <td>0</td>\n",
       "      <td>0</td>\n",
       "    </tr>\n",
       "    <tr>\n",
       "      <th>3</th>\n",
       "      <td>not-addicted</td>\n",
       "      <td>1</td>\n",
       "      <td>0</td>\n",
       "      <td>1</td>\n",
       "      <td>1</td>\n",
       "      <td>1</td>\n",
       "      <td>1</td>\n",
       "      <td>1</td>\n",
       "      <td>1</td>\n",
       "      <td>1</td>\n",
       "      <td>0</td>\n",
       "      <td>1</td>\n",
       "      <td>1</td>\n",
       "      <td>1</td>\n",
       "      <td>1</td>\n",
       "      <td>0</td>\n",
       "      <td>0</td>\n",
       "      <td>1</td>\n",
       "      <td>1</td>\n",
       "    </tr>\n",
       "    <tr>\n",
       "      <th>4</th>\n",
       "      <td>not-addicted</td>\n",
       "      <td>1</td>\n",
       "      <td>1</td>\n",
       "      <td>0</td>\n",
       "      <td>0</td>\n",
       "      <td>0</td>\n",
       "      <td>0</td>\n",
       "      <td>0</td>\n",
       "      <td>1</td>\n",
       "      <td>1</td>\n",
       "      <td>1</td>\n",
       "      <td>1</td>\n",
       "      <td>0</td>\n",
       "      <td>0</td>\n",
       "      <td>0</td>\n",
       "      <td>0</td>\n",
       "      <td>1</td>\n",
       "      <td>1</td>\n",
       "      <td>1</td>\n",
       "    </tr>\n",
       "  </tbody>\n",
       "</table>\n",
       "</div>"
      ],
      "text/plain": [
       "          Class  excessive  quit-unsuccessful  loss-focus  reduction  \\\n",
       "0      addicted          1                  1           1          0   \n",
       "1  not-addicted          0                  0           0          0   \n",
       "2  not-addicted          0                  0           0          0   \n",
       "3  not-addicted          1                  0           1          1   \n",
       "4  not-addicted          1                  1           0          0   \n",
       "\n",
       "   engaging-risky  guilt-shame  cycles  health-issue  demanding  \\\n",
       "0               0            1       1             0          1   \n",
       "1               0            0       0             0          0   \n",
       "2               0            0       0             1          0   \n",
       "3               1            1       1             1          1   \n",
       "4               0            0       0             1          1   \n",
       "\n",
       "   lost-attraction  physical-pain  feeling-distracted  a-u-issue-r  \\\n",
       "0                0              0                   1            0   \n",
       "1                0              0                   0            0   \n",
       "2                0              0                   1            0   \n",
       "3                0              1                   1            1   \n",
       "4                1              1                   0            0   \n",
       "\n",
       "   cope-feelings  sex-life-less-satisfying  lost-interest  obsessive-thoughts  \\\n",
       "0              0                         0              1                   1   \n",
       "1              0                         0              0                   0   \n",
       "2              0                         0              0                   0   \n",
       "3              1                         0              0                   1   \n",
       "4              0                         0              1                   1   \n",
       "\n",
       "   Feeling-withdrawal  \n",
       "0                   1  \n",
       "1                   0  \n",
       "2                   0  \n",
       "3                   1  \n",
       "4                   1  "
      ]
     },
     "execution_count": 1,
     "metadata": {},
     "output_type": "execute_result"
    }
   ],
   "source": [
    "import warnings\n",
    "warnings.filterwarnings('ignore')\n",
    "import seaborn as sns\n",
    "import pandas as pd\n",
    "import matplotlib.pyplot as plt\n",
    "%matplotlib inline\n",
    "sns.set(style=\"white\",color_codes=True)\n",
    "df = pd.read_csv('dataset.csv')\n",
    "df.head()"
   ]
  },
  {
   "cell_type": "code",
   "execution_count": 2,
   "id": "2580cda6",
   "metadata": {
    "scrolled": false
   },
   "outputs": [
    {
     "data": {
      "text/plain": [
       "Class\n",
       "not-addicted    5\n",
       "addicted        3\n",
       "Name: count, dtype: int64"
      ]
     },
     "execution_count": 2,
     "metadata": {},
     "output_type": "execute_result"
    }
   ],
   "source": [
    "df[\"Class\"].value_counts()"
   ]
  },
  {
   "cell_type": "code",
   "execution_count": 3,
   "id": "395a33e1",
   "metadata": {
    "scrolled": true
   },
   "outputs": [
    {
     "data": {
      "text/plain": [
       "Index(['Class', 'excessive', 'quit-unsuccessful', 'loss-focus', 'reduction',\n",
       "       'engaging-risky', 'guilt-shame', 'cycles', 'health-issue', 'demanding',\n",
       "       'lost-attraction', 'physical-pain', 'feeling-distracted', 'a-u-issue-r',\n",
       "       'cope-feelings', 'sex-life-less-satisfying', 'lost-interest',\n",
       "       'obsessive-thoughts', 'Feeling-withdrawal'],\n",
       "      dtype='object')"
      ]
     },
     "execution_count": 3,
     "metadata": {},
     "output_type": "execute_result"
    }
   ],
   "source": [
    "df.keys()"
   ]
  },
  {
   "cell_type": "code",
   "execution_count": 4,
   "id": "4cfe93aa",
   "metadata": {
    "scrolled": false
   },
   "outputs": [
    {
     "data": {
      "text/plain": [
       "<seaborn.axisgrid.FacetGrid at 0x1b270f093d0>"
      ]
     },
     "execution_count": 4,
     "metadata": {},
     "output_type": "execute_result"
    },
    {
     "data": {
      "image/png": "[encoded data removed]",
      "text/plain": [
       "<Figure size 538.875x400 with 1 Axes>"
      ]
     },
     "metadata": {},
     "output_type": "display_data"
    }
   ],
   "source": [
    "sns.FacetGrid(df, hue = \"Class\", height = 4).map(plt.scatter, \"obsessive-thoughts\", \"engaging-risky\").add_legend()"
   ]
  },
  {
   "cell_type": "code",
   "execution_count": 5,
   "id": "a4de1126",
   "metadata": {
    "scrolled": true
   },
   "outputs": [],
   "source": [
    "# info_mapping = {'addicted': 1, 'not-addicted': 0}\n",
    "# df[\"Class\"] = df[\"Class\"].map(info_mapping)"
   ]
  },
  {
   "cell_type": "code",
   "execution_count": 6,
   "id": "f62fec66",
   "metadata": {
    "scrolled": false
   },
   "outputs": [
    {
     "data": {
      "text/html": [
       "<div>\n",
       "<style scoped>\n",
       "    .dataframe tbody tr th:only-of-type {\n",
       "        vertical-align: middle;\n",
       "    }\n",
       "\n",
       "    .dataframe tbody tr th {\n",
       "        vertical-align: top;\n",
       "    }\n",
       "\n",
       "    .dataframe thead th {\n",
       "        text-align: right;\n",
       "    }\n",
       "</style>\n",
       "<table border=\"1\" class=\"dataframe\">\n",
       "  <thead>\n",
       "    <tr style=\"text-align: right;\">\n",
       "      <th></th>\n",
       "      <th>Class</th>\n",
       "      <th>excessive</th>\n",
       "      <th>quit-unsuccessful</th>\n",
       "      <th>loss-focus</th>\n",
       "      <th>reduction</th>\n",
       "      <th>engaging-risky</th>\n",
       "      <th>guilt-shame</th>\n",
       "      <th>cycles</th>\n",
       "      <th>health-issue</th>\n",
       "      <th>demanding</th>\n",
       "      <th>lost-attraction</th>\n",
       "      <th>physical-pain</th>\n",
       "      <th>feeling-distracted</th>\n",
       "      <th>a-u-issue-r</th>\n",
       "      <th>cope-feelings</th>\n",
       "      <th>sex-life-less-satisfying</th>\n",
       "      <th>lost-interest</th>\n",
       "      <th>obsessive-thoughts</th>\n",
       "      <th>Feeling-withdrawal</th>\n",
       "    </tr>\n",
       "  </thead>\n",
       "  <tbody>\n",
       "    <tr>\n",
       "      <th>0</th>\n",
       "      <td>addicted</td>\n",
       "      <td>1</td>\n",
       "      <td>1</td>\n",
       "      <td>1</td>\n",
       "      <td>0</td>\n",
       "      <td>0</td>\n",
       "      <td>1</td>\n",
       "      <td>1</td>\n",
       "      <td>0</td>\n",
       "      <td>1</td>\n",
       "      <td>0</td>\n",
       "      <td>0</td>\n",
       "      <td>1</td>\n",
       "      <td>0</td>\n",
       "      <td>0</td>\n",
       "      <td>0</td>\n",
       "      <td>1</td>\n",
       "      <td>1</td>\n",
       "      <td>1</td>\n",
       "    </tr>\n",
       "    <tr>\n",
       "      <th>1</th>\n",
       "      <td>not-addicted</td>\n",
       "      <td>0</td>\n",
       "      <td>0</td>\n",
       "      <td>0</td>\n",
       "      <td>0</td>\n",
       "      <td>0</td>\n",
       "      <td>0</td>\n",
       "      <td>0</td>\n",
       "      <td>0</td>\n",
       "      <td>0</td>\n",
       "      <td>0</td>\n",
       "      <td>0</td>\n",
       "      <td>0</td>\n",
       "      <td>0</td>\n",
       "      <td>0</td>\n",
       "      <td>0</td>\n",
       "      <td>0</td>\n",
       "      <td>0</td>\n",
       "      <td>0</td>\n",
       "    </tr>\n",
       "    <tr>\n",
       "      <th>2</th>\n",
       "      <td>not-addicted</td>\n",
       "      <td>0</td>\n",
       "      <td>0</td>\n",
       "      <td>0</td>\n",
       "      <td>0</td>\n",
       "      <td>0</td>\n",
       "      <td>0</td>\n",
       "      <td>0</td>\n",
       "      <td>1</td>\n",
       "      <td>0</td>\n",
       "      <td>0</td>\n",
       "      <td>0</td>\n",
       "      <td>1</td>\n",
       "      <td>0</td>\n",
       "      <td>0</td>\n",
       "      <td>0</td>\n",
       "      <td>0</td>\n",
       "      <td>0</td>\n",
       "      <td>0</td>\n",
       "    </tr>\n",
       "    <tr>\n",
       "      <th>3</th>\n",
       "      <td>not-addicted</td>\n",
       "      <td>1</td>\n",
       "      <td>0</td>\n",
       "      <td>1</td>\n",
       "      <td>1</td>\n",
       "      <td>1</td>\n",
       "      <td>1</td>\n",
       "      <td>1</td>\n",
       "      <td>1</td>\n",
       "      <td>1</td>\n",
       "      <td>0</td>\n",
       "      <td>1</td>\n",
       "      <td>1</td>\n",
       "      <td>1</td>\n",
       "      <td>1</td>\n",
       "      <td>0</td>\n",
       "      <td>0</td>\n",
       "      <td>1</td>\n",
       "      <td>1</td>\n",
       "    </tr>\n",
       "    <tr>\n",
       "      <th>4</th>\n",
       "      <td>not-addicted</td>\n",
       "      <td>1</td>\n",
       "      <td>1</td>\n",
       "      <td>0</td>\n",
       "      <td>0</td>\n",
       "      <td>0</td>\n",
       "      <td>0</td>\n",
       "      <td>0</td>\n",
       "      <td>1</td>\n",
       "      <td>1</td>\n",
       "      <td>1</td>\n",
       "      <td>1</td>\n",
       "      <td>0</td>\n",
       "      <td>0</td>\n",
       "      <td>0</td>\n",
       "      <td>0</td>\n",
       "      <td>1</td>\n",
       "      <td>1</td>\n",
       "      <td>1</td>\n",
       "    </tr>\n",
       "    <tr>\n",
       "      <th>5</th>\n",
       "      <td>addicted</td>\n",
       "      <td>0</td>\n",
       "      <td>1</td>\n",
       "      <td>1</td>\n",
       "      <td>1</td>\n",
       "      <td>0</td>\n",
       "      <td>1</td>\n",
       "      <td>1</td>\n",
       "      <td>1</td>\n",
       "      <td>1</td>\n",
       "      <td>1</td>\n",
       "      <td>0</td>\n",
       "      <td>1</td>\n",
       "      <td>1</td>\n",
       "      <td>1</td>\n",
       "      <td>0</td>\n",
       "      <td>1</td>\n",
       "      <td>0</td>\n",
       "      <td>0</td>\n",
       "    </tr>\n",
       "    <tr>\n",
       "      <th>6</th>\n",
       "      <td>not-addicted</td>\n",
       "      <td>1</td>\n",
       "      <td>0</td>\n",
       "      <td>1</td>\n",
       "      <td>1</td>\n",
       "      <td>1</td>\n",
       "      <td>1</td>\n",
       "      <td>0</td>\n",
       "      <td>1</td>\n",
       "      <td>1</td>\n",
       "      <td>0</td>\n",
       "      <td>1</td>\n",
       "      <td>1</td>\n",
       "      <td>1</td>\n",
       "      <td>1</td>\n",
       "      <td>1</td>\n",
       "      <td>1</td>\n",
       "      <td>1</td>\n",
       "      <td>0</td>\n",
       "    </tr>\n",
       "    <tr>\n",
       "      <th>7</th>\n",
       "      <td>addicted</td>\n",
       "      <td>1</td>\n",
       "      <td>1</td>\n",
       "      <td>1</td>\n",
       "      <td>0</td>\n",
       "      <td>0</td>\n",
       "      <td>1</td>\n",
       "      <td>1</td>\n",
       "      <td>1</td>\n",
       "      <td>1</td>\n",
       "      <td>0</td>\n",
       "      <td>0</td>\n",
       "      <td>1</td>\n",
       "      <td>1</td>\n",
       "      <td>1</td>\n",
       "      <td>1</td>\n",
       "      <td>0</td>\n",
       "      <td>1</td>\n",
       "      <td>1</td>\n",
       "    </tr>\n",
       "  </tbody>\n",
       "</table>\n",
       "</div>"
      ],
      "text/plain": [
       "          Class  excessive  quit-unsuccessful  loss-focus  reduction  \\\n",
       "0      addicted          1                  1           1          0   \n",
       "1  not-addicted          0                  0           0          0   \n",
       "2  not-addicted          0                  0           0          0   \n",
       "3  not-addicted          1                  0           1          1   \n",
       "4  not-addicted          1                  1           0          0   \n",
       "5      addicted          0                  1           1          1   \n",
       "6  not-addicted          1                  0           1          1   \n",
       "7      addicted          1                  1           1          0   \n",
       "\n",
       "   engaging-risky  guilt-shame  cycles  health-issue  demanding  \\\n",
       "0               0            1       1             0          1   \n",
       "1               0            0       0             0          0   \n",
       "2               0            0       0             1          0   \n",
       "3               1            1       1             1          1   \n",
       "4               0            0       0             1          1   \n",
       "5               0            1       1             1          1   \n",
       "6               1            1       0             1          1   \n",
       "7               0            1       1             1          1   \n",
       "\n",
       "   lost-attraction  physical-pain  feeling-distracted  a-u-issue-r  \\\n",
       "0                0              0                   1            0   \n",
       "1                0              0                   0            0   \n",
       "2                0              0                   1            0   \n",
       "3                0              1                   1            1   \n",
       "4                1              1                   0            0   \n",
       "5                1              0                   1            1   \n",
       "6                0              1                   1            1   \n",
       "7                0              0                   1            1   \n",
       "\n",
       "   cope-feelings  sex-life-less-satisfying  lost-interest  obsessive-thoughts  \\\n",
       "0              0                         0              1                   1   \n",
       "1              0                         0              0                   0   \n",
       "2              0                         0              0                   0   \n",
       "3              1                         0              0                   1   \n",
       "4              0                         0              1                   1   \n",
       "5              1                         0              1                   0   \n",
       "6              1                         1              1                   1   \n",
       "7              1                         1              0                   1   \n",
       "\n",
       "   Feeling-withdrawal  \n",
       "0                   1  \n",
       "1                   0  \n",
       "2                   0  \n",
       "3                   1  \n",
       "4                   1  \n",
       "5                   0  \n",
       "6                   0  \n",
       "7                   1  "
      ]
     },
     "execution_count": 6,
     "metadata": {},
     "output_type": "execute_result"
    }
   ],
   "source": [
    "# PREPARING INPUT OUTPUT\n",
    "df"
   ]
  },
  {
   "cell_type": "code",
   "execution_count": 7,
   "id": "9a1b502b",
   "metadata": {
    "scrolled": true
   },
   "outputs": [],
   "source": [
    "X = df[['excessive', 'quit-unsuccessful', 'loss-focus', 'reduction',\n",
    "       'engaging-risky', 'guilt-shame', 'cycles', 'health-issue', 'demanding',\n",
    "       'lost-attraction', 'physical-pain', 'feeling-distracted', 'a-u-issue-r',\n",
    "       'cope-feelings', 'sex-life-less-satisfying', 'lost-interest',\n",
    "       'obsessive-thoughts', 'Feeling-withdrawal']].values\n",
    "\n",
    "y = df[['Class']].values  # Keep 'Class' as the target variable\n"
   ]
  },
  {
   "cell_type": "markdown",
   "id": "74269989",
   "metadata": {},
   "source": [
    "# Logistick Regression"
   ]
  },
  {
   "cell_type": "code",
   "execution_count": 8,
   "id": "11039015",
   "metadata": {
    "scrolled": true
   },
   "outputs": [
    {
     "data": {
      "text/plain": [
       "100.0"
      ]
     },
     "execution_count": 8,
     "metadata": {},
     "output_type": "execute_result"
    }
   ],
   "source": [
    "from sklearn.linear_model import LogisticRegression\n",
    "import numpy as np\n",
    "model = LogisticRegression()\n",
    "model.fit(X, y)\n",
    "#Accuracy\n",
    "model.score(X, y)*100"
   ]
  },
  {
   "cell_type": "code",
   "execution_count": 9,
   "id": "01a174b1",
   "metadata": {
    "scrolled": true
   },
   "outputs": [
    {
     "name": "stdout",
     "output_type": "stream",
     "text": [
      "['addicted' 'not-addicted' 'not-addicted' 'not-addicted' 'not-addicted'\n",
      " 'addicted' 'not-addicted' 'addicted']\n"
     ]
    }
   ],
   "source": [
    "expected = df['Class']\n",
    "predicted = model.predict(X)\n",
    "print(predicted)"
   ]
  },
  {
   "cell_type": "code",
   "execution_count": 10,
   "id": "be6153f5",
   "metadata": {
    "scrolled": true
   },
   "outputs": [],
   "source": [
    "#zero 0,0,0,1,1,0,0,1,0,1,1,0,1,1,1,0,0,0\n",
    "# 0,0,0,1,1,0,0,0,0,1,1,0,0,0,0,1,0,0\n",
    "\n",
    "#yes = 1\n",
    "#no = 0\n",
    "\n",
    "#test 1,1,1,1,1,1,1,1,1,1,1,1,1,1,0,1,0,0"
   ]
  },
  {
   "cell_type": "code",
   "execution_count": 11,
   "id": "4e5bd016",
   "metadata": {},
   "outputs": [],
   "source": [
    "import pickle\n",
    "filename = 'saved_model.sav'\n",
    "pickle.dump(model,open(filename,'wb'))"
   ]
  },
  {
   "cell_type": "code",
   "execution_count": 12,
   "id": "afb7ce23",
   "metadata": {},
   "outputs": [],
   "source": [
    "expected = df['Class']\n",
    "load_model = pickle.load(open(filename,'rb'))"
   ]
  },
  {
   "cell_type": "code",
   "execution_count": 13,
   "id": "26953e84",
   "metadata": {},
   "outputs": [
    {
     "data": {
      "text/plain": [
       "array(['not-addicted'], dtype=object)"
      ]
     },
     "execution_count": 13,
     "metadata": {},
     "output_type": "execute_result"
    }
   ],
   "source": [
    "load_model.predict([[0,0,0,0,0,1,1,0,1,0,0,1,0,0,0,1,1,1]])"
   ]
  }
 ],
 "metadata": {
  "kernelspec": {
   "display_name": "Python 3 (ipykernel)",
   "language": "python",
   "name": "python3"
  },
  "language_info": {
   "codemirror_mode": {
    "name": "ipython",
    "version": 3
   },
   "file_extension": ".py",
   "mimetype": "text/x-python",
   "name": "python",
   "nbconvert_exporter": "python",
   "pygments_lexer": "ipython3",
   "version": "3.12.0"
  }
 },
 "nbformat": 4,
 "nbformat_minor": 5
}
